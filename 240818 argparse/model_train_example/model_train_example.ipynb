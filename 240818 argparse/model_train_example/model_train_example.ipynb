{
 "cells": [
  {
   "cell_type": "code",
   "execution_count": 1,
   "id": "7202db87-0f5e-4657-8e74-46984dbabebc",
   "metadata": {},
   "outputs": [
    {
     "name": "stdout",
     "output_type": "stream",
     "text": [
      "[1/10] Loss : 0.7699\n",
      "[2/10] Loss : 0.5216\n",
      "[3/10] Loss : 0.3058\n",
      "[4/10] Loss : 0.2058\n",
      "[5/10] Loss : 0.1931\n",
      "[6/10] Loss : 0.2828\n",
      "[7/10] Loss : 0.1259\n",
      "[8/10] Loss : 0.3071\n",
      "[9/10] Loss : 0.1695\n",
      "[10/10] Loss : 0.1412\n",
      "\n",
      "Acc : 0.8333\n"
     ]
    }
   ],
   "source": [
    "!python repitition_example.py --seed 7 \\\n",
    "                              --lr 0.1"
   ]
  },
  {
   "cell_type": "code",
   "execution_count": null,
   "id": "649639b2-c52b-4ca9-a7c7-5bb8226a1450",
   "metadata": {},
   "outputs": [],
   "source": []
  }
 ],
 "metadata": {
  "kernelspec": {
   "display_name": "Python 3 (ipykernel)",
   "language": "python",
   "name": "python3"
  },
  "language_info": {
   "codemirror_mode": {
    "name": "ipython",
    "version": 3
   },
   "file_extension": ".py",
   "mimetype": "text/x-python",
   "name": "python",
   "nbconvert_exporter": "python",
   "pygments_lexer": "ipython3",
   "version": "3.10.8"
  }
 },
 "nbformat": 4,
 "nbformat_minor": 5
}
